{
 "cells": [
  {
   "cell_type": "code",
   "execution_count": 17,
   "metadata": {},
   "outputs": [],
   "source": [
    "import numpy as np\n",
    "\n",
    "%matplotlib inline\n",
    "import matplotlib.pyplot as plt"
   ]
  },
  {
   "cell_type": "code",
   "execution_count": 18,
   "metadata": {},
   "outputs": [],
   "source": [
    "class ChessBoard:\n",
    "    \"\"\"\n",
    "    A class to make a board to be 64 small square to play chess game and paint them white and black one after one\n",
    "    \"\"\"\n",
    "    \n",
    "    def __init__(self):\n",
    "        \"\"\"\n",
    "        method to initialize the board fo black and white colors\n",
    "        \"\"\"\n",
    "        self.board = np.ones([8,8,3])\n",
    "        for i in np.ndindex(8,8):\n",
    "            row = i[0]\n",
    "            col = i[1]\n",
    "            # if row%2==0 and col%2==1 or row%2==1 and col%2==0:\n",
    "            if row%2 != col%2:\n",
    "                self.board[row, col] = [0,0,0]\n",
    "    \n",
    "    \n",
    "    def add_red(self, row, col):\n",
    "        \"\"\"\n",
    "        method to put the red queen on a specifc place \n",
    "        \"\"\"\n",
    "        self.red_row=row\n",
    "        self.red_column=col\n",
    "        self.board[row][col]=np.array([1,.2,0])  \n",
    "    \n",
    "    def add_blue(self, row, col):\n",
    "        \"\"\"\n",
    "        method to put the blue queen on a specifc place \n",
    "        \"\"\"\n",
    "        self.blue_row=row\n",
    "        self.blue_column=col\n",
    "        self.board[row][col]=np.array([0,1,1])  \n",
    "    \n",
    "    \n",
    "    def render(self):\n",
    "        \"\"\"\n",
    "        method to render and display the image of board\n",
    "        \"\"\"\n",
    "        plt.imshow(self.board)\n",
    "   \n",
    "        \n",
    "    \n",
    "    def is_under_attack(self):\n",
    "        \"\"\"\n",
    "        method to check if \n",
    "        queens on same row should be “under attack”\n",
    "        queens on same column should be “under attack”\n",
    "        queens on same diagonal should be “under attack”\n",
    "        queens with any other coordinates should NOT be “under attack”\n",
    "        \"\"\"\n",
    "\n",
    "        \n",
    "        if    (self.red_row==self.blue_row)  and (self.red_column ==self.blue_column):\n",
    "\n",
    "            return \"Attack is done and one of the queens were eaten\"\n",
    "\n",
    "        elif self.red_row == self.blue_row or self.red_column == self.blue_column :\n",
    "\n",
    "            return True\n",
    "\n",
    "\n",
    "\n",
    "        elif abs(self.red_row-self.blue_row) == abs (self.red_column - self.blue_column):\n",
    "\n",
    "\n",
    "            return True\n",
    "\n",
    "        else:\n",
    "\n",
    "            return False"
   ]
  },
  {
   "cell_type": "code",
   "execution_count": 19,
   "metadata": {},
   "outputs": [
    {
     "data": {
      "image/png": "[encoded data removed]",
      "text/plain": [
       "<Figure size 432x288 with 1 Axes>"
      ]
     },
     "metadata": {
      "needs_background": "light"
     },
     "output_type": "display_data"
    }
   ],
   "source": [
    "chess_board = ChessBoard()\n",
    "\n",
    "\n",
    "\n",
    "chess_board.add_red(1,6)\n",
    "chess_board.add_blue(5,6)\n",
    "\n",
    "chess_board.render()\n",
    "\n",
    "\n",
    "\n"
   ]
  },
  {
   "cell_type": "code",
   "execution_count": 26,
   "metadata": {},
   "outputs": [
    {
     "data": {
      "image/png": "[encoded data removed]",
      "text/plain": [
       "<Figure size 432x288 with 1 Axes>"
      ]
     },
     "metadata": {
      "needs_background": "light"
     },
     "output_type": "display_data"
    }
   ],
   "source": [
    "chess_board = ChessBoard()\n",
    "\n",
    "\n",
    "\n",
    "chess_board.add_red(5,2)\n",
    "chess_board.add_blue(5,6)\n",
    "\n",
    "chess_board.render()\n",
    "\n",
    "assert chess_board.is_under_attack()==True"
   ]
  },
  {
   "cell_type": "code",
   "execution_count": 21,
   "metadata": {},
   "outputs": [
    {
     "data": {
      "image/png": "[encoded data removed]",
      "text/plain": [
       "<Figure size 432x288 with 1 Axes>"
      ]
     },
     "metadata": {
      "needs_background": "light"
     },
     "output_type": "display_data"
    }
   ],
   "source": [
    "chess_board = ChessBoard()\n",
    "\n",
    "\n",
    "\n",
    "chess_board.add_red(5,6)\n",
    "chess_board.add_blue(4,6)\n",
    "\n",
    "chess_board.render()\n",
    "\n",
    "assert chess_board.is_under_attack()==True"
   ]
  },
  {
   "cell_type": "code",
   "execution_count": 22,
   "metadata": {},
   "outputs": [
    {
     "data": {
      "image/png": "[encoded data removed]",
      "text/plain": [
       "<Figure size 432x288 with 1 Axes>"
      ]
     },
     "metadata": {
      "needs_background": "light"
     },
     "output_type": "display_data"
    }
   ],
   "source": [
    "chess_board = ChessBoard()\n",
    "\n",
    "\n",
    "\n",
    "chess_board.add_red(4,4)\n",
    "chess_board.add_blue(5,5)\n",
    "\n",
    "chess_board.render()\n",
    "\n",
    "assert chess_board.is_under_attack()==True"
   ]
  },
  {
   "cell_type": "code",
   "execution_count": 23,
   "metadata": {},
   "outputs": [
    {
     "data": {
      "image/png": "[encoded data removed]",
      "text/plain": [
       "<Figure size 432x288 with 1 Axes>"
      ]
     },
     "metadata": {
      "needs_background": "light"
     },
     "output_type": "display_data"
    }
   ],
   "source": [
    "chess_board = ChessBoard()\n",
    "\n",
    "\n",
    "\n",
    "chess_board.add_red(5,2)\n",
    "chess_board.add_blue(4,7)\n",
    "\n",
    "chess_board.render()\n",
    "\n",
    "assert chess_board.is_under_attack()==False"
   ]
  },
  {
   "cell_type": "code",
   "execution_count": 24,
   "metadata": {},
   "outputs": [
    {
     "data": {
      "image/png": "[encoded data removed]",
      "text/plain": [
       "<Figure size 432x288 with 1 Axes>"
      ]
     },
     "metadata": {
      "needs_background": "light"
     },
     "output_type": "display_data"
    }
   ],
   "source": [
    "chess_board = ChessBoard()\n",
    "\n",
    "\n",
    "\n",
    "chess_board.add_red(5,2)\n",
    "chess_board.add_blue(5,2)\n",
    "\n",
    "chess_board.render()\n",
    "\n",
    "assert chess_board.is_under_attack()==\"Attack is done and one of the queens were eaten\""
   ]
  },
  {
   "cell_type": "code",
   "execution_count": null,
   "metadata": {},
   "outputs": [],
   "source": []
  }
 ],
 "metadata": {
  "interpreter": {
   "hash": "5b3ded1ccb95c1d9bd405e7b823d9e85424cde40fbb5985eb47e999ef50e15b4"
  },
  "kernelspec": {
   "display_name": "Python 3.8.10 64-bit",
   "language": "python",
   "name": "python3"
  },
  "language_info": {
   "codemirror_mode": {
    "name": "ipython",
    "version": 3
   },
   "file_extension": ".py",
   "mimetype": "text/x-python",
   "name": "python",
   "nbconvert_exporter": "python",
   "pygments_lexer": "ipython3",
   "version": "3.9.5"
  },
  "orig_nbformat": 4
 },
 "nbformat": 4,
 "nbformat_minor": 2
}
